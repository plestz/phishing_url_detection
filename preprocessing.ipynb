{
 "cells": [
  {
   "cell_type": "code",
   "execution_count": 10,
   "metadata": {},
   "outputs": [],
   "source": [
    "import numpy as np\n",
    "import pandas as pd\n",
    "import matplotlib.pyplot as plt\n",
    "import seaborn as sns\n",
    "from sklearn.model_selection import train_test_split, StratifiedKFold\n",
    "from sklearn.preprocessing import StandardScaler, MinMaxScaler\n",
    "from tqdm import tqdm"
   ]
  },
  {
   "cell_type": "code",
   "execution_count": 11,
   "metadata": {},
   "outputs": [],
   "source": [
    "# Load in the phishing\n",
    "phishing_df = pd.read_csv('data/phishing_urls.csv', header = 0).drop(columns = ['FILENAME', 'URLSimilarityIndex'])\n",
    "\n",
    "# Invert the label column (positive phishing should be 1, not 0)\n",
    "phishing_df['label'] = phishing_df['label'].map({0: 1, 1: 0})"
   ]
  },
  {
   "cell_type": "code",
   "execution_count": 12,
   "metadata": {},
   "outputs": [],
   "source": [
    "categorical_numerical_features = ['IsDomainIP', 'HasObfuscation', 'IsHTTPS', 'HasTitle', 'HasFavicon', 'Robots', 'IsResponsive', 'HasDescription', 'HasExternalFormSubmit', 'HasSocialNet', 'HasSubmitButton', 'HasHiddenFields', 'HasPasswordField', 'Bank', 'Pay', 'Crypto', 'HasCopyrightInfo']\n",
    "categorical_nonnumerical_features = []\n",
    "ss_continuous_features = ['URLLength', 'DomainLength', 'TLDLength', 'NoOfSubDomain', 'NoOfObfuscatedChar', 'NoOfLettersInURL', 'NoOfDigitsInURL', 'NoOfEqualsInURL', 'NoOfQMarkInURL', 'NoOfAmpersandInURL', 'NoOfOtherSpecialCharsInURL', 'LineOfCode', 'LargestLineLength', 'NoOfURLRedirect', 'NoOfSelfRedirect', 'NoOfPopup', 'NoOfiFrame', 'NoOfImage', 'NoOfCSS', 'NoOfJS', 'NoOfSelfRef', 'NoOfEmptyRef', 'NoOfExternalRef']\n",
    "minmax_continuous_features = ['CharContinuationRate', 'TLDLegitimateProb', 'URLCharProb', 'ObfuscationRatio', 'LetterRatioInURL', 'DigitRatioInURL', 'SpecialCharRatioInURL', 'DomainTitleMatchScore', 'URLTitleMatchScore']\n",
    "ordinal_features = []\n",
    "nonnumeric_features = ['URL', 'Domain', 'TLD', 'Title']\n",
    "label = 'label'"
   ]
  },
  {
   "cell_type": "code",
   "execution_count": 22,
   "metadata": {},
   "outputs": [
    {
     "name": "stdout",
     "output_type": "stream",
     "text": [
      "(190993, 53) (21222, 53) (23580, 53)\n",
      "(190993,) (21222,) (23580,)\n",
      "(190993, 53) (21222, 53) (23580, 53)\n",
      "(190993,) (21222,) (23580,)\n",
      "(190993, 53) (21222, 53) (23580, 53)\n",
      "(190993,) (21222,) (23580,)\n",
      "(190993, 53) (21222, 53) (23580, 53)\n",
      "(190993,) (21222,) (23580,)\n",
      "(190993, 53) (21222, 53) (23580, 53)\n",
      "(190993,) (21222,) (23580,)\n",
      "(190994, 53) (21221, 53) (23580, 53)\n",
      "(190994,) (21221,) (23580,)\n",
      "(190994, 53) (21221, 53) (23580, 53)\n",
      "(190994,) (21221,) (23580,)\n",
      "(190994, 53) (21221, 53) (23580, 53)\n",
      "(190994,) (21221,) (23580,)\n",
      "(190994, 53) (21221, 53) (23580, 53)\n",
      "(190994,) (21221,) (23580,)\n",
      "(190994, 53) (21221, 53) (23580, 53)\n",
      "(190994,) (21221,) (23580,)\n"
     ]
    }
   ],
   "source": [
    "train_perc, val_perc, test_perc = 0.8, 0.10, 0.10\n",
    "\n",
    "X, y = phishing_df.drop(columns = [label]), phishing_df[label]\n",
    "\n",
    "# Perform stratified split to ensure equal representation of legitimate and phishing URLs\n",
    "X_other, X_test, y_other, y_test = train_test_split(X, y, test_size = test_perc, stratify = y, random_state = 42)\n",
    "\n",
    "# GroupKFold into train and val with 10 folds\n",
    "skf = StratifiedKFold(n_splits = 10, shuffle = True)\n",
    "\n",
    "for train_index, val_index in skf.split(X_other, y_other):\n",
    "    X_train, X_val = X_other.iloc[train_index], X_other.iloc[val_index]\n",
    "    y_train, y_val = y_other.iloc[train_index], y_other.iloc[val_index]\n",
    "\n",
    "    minmax_scaler = MinMaxScaler()\n",
    "\n",
    "    X_train_mm = pd.DataFrame(minmax_scaler.fit_transform(X_train[minmax_continuous_features]),\n",
    "                              columns = minmax_continuous_features, index = X_train.index)\n",
    "    X_val_mm = pd.DataFrame(minmax_scaler.transform(X_val[minmax_continuous_features]),\n",
    "                            columns = minmax_continuous_features, index = X_val.index)\n",
    "\n",
    "    ss_scaler = StandardScaler()\n",
    "\n",
    "    X_train_ss = pd.DataFrame(ss_scaler.fit_transform(X_train[ss_continuous_features]),\n",
    "                              columns=ss_continuous_features, index=X_train.index)\n",
    "    X_val_ss = pd.DataFrame(ss_scaler.transform(X_val[ss_continuous_features]),\n",
    "                            columns=ss_continuous_features, index=X_val.index)\n",
    "\n",
    "    X_train_untransformed = X_train.drop(columns = minmax_continuous_features + ss_continuous_features)\n",
    "    X_val_untransformed = X_val.drop(columns = minmax_continuous_features + ss_continuous_features)\n",
    "\n",
    "    X_train_final = pd.concat([X_train_untransformed, X_train_mm, X_train_ss], axis = 1)\n",
    "    X_val_final = pd.concat([X_val_untransformed, X_val_mm, X_val_ss], axis = 1)\n",
    "\n",
    "    # Print shapes to verify correctness\n",
    "    print(X_train_final.shape, X_val_final.shape, X_test.shape)\n",
    "    print(y_train.shape, y_val.shape, y_test.shape)\n",
    "\n",
    "    # TRAIN AND VALIDATE MODELS HERE"
   ]
  },
  {
   "cell_type": "code",
   "execution_count": 23,
   "metadata": {},
   "outputs": [
    {
     "name": "stdout",
     "output_type": "stream",
     "text": [
      "(212215, 53) (23580, 53)\n",
      "(212215,) (23580,)\n"
     ]
    }
   ],
   "source": [
    "# Train on entire training set and evaluate on test set\n",
    "X_train, X_test, y_train, y_test = train_test_split(X, y, test_size = test_perc, stratify = y, random_state = 42)\n",
    "\n",
    "minmax_scaler = MinMaxScaler()\n",
    "\n",
    "X_train_mm = pd.DataFrame(minmax_scaler.fit_transform(X_train[minmax_continuous_features]),\n",
    "                          columns = minmax_continuous_features, index = X_train.index)\n",
    "X_test_mm = pd.DataFrame(minmax_scaler.transform(X_test[minmax_continuous_features]),\n",
    "                            columns = minmax_continuous_features, index = X_test.index)\n",
    "\n",
    "ss_scaler = StandardScaler()\n",
    "\n",
    "X_train_ss = pd.DataFrame(ss_scaler.fit_transform(X_train[ss_continuous_features]),\n",
    "                            columns=ss_continuous_features, index=X_train.index)\n",
    "X_test_ss = pd.DataFrame(ss_scaler.transform(X_test[ss_continuous_features]),\n",
    "                            columns=ss_continuous_features, index=X_test.index)\n",
    "\n",
    "X_train_untransformed = X_train.drop(columns = minmax_continuous_features + ss_continuous_features)\n",
    "X_test_untransformed = X_test.drop(columns = minmax_continuous_features + ss_continuous_features)\n",
    "\n",
    "X_train_final = pd.concat([X_train_untransformed, X_train_mm, X_train_ss], axis = 1)\n",
    "X_test_final = pd.concat([X_test_untransformed, X_test_mm, X_test_ss], axis = 1)\n",
    "\n",
    "# Print shapes to verify correctness\n",
    "print(X_train_final.shape, X_test_final.shape)\n",
    "print(y_train.shape, y_test.shape)\n",
    "\n",
    "# TRAIN AND TEST MODELS HERE"
   ]
  }
 ],
 "metadata": {
  "kernelspec": {
   "display_name": "data1030_env",
   "language": "python",
   "name": "python3"
  },
  "language_info": {
   "codemirror_mode": {
    "name": "ipython",
    "version": 3
   },
   "file_extension": ".py",
   "mimetype": "text/x-python",
   "name": "python",
   "nbconvert_exporter": "python",
   "pygments_lexer": "ipython3",
   "version": "3.12.5"
  }
 },
 "nbformat": 4,
 "nbformat_minor": 2
}
