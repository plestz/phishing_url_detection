{
 "cells": [
  {
   "cell_type": "code",
   "execution_count": 1,
   "metadata": {},
   "outputs": [],
   "source": [
    "import numpy as np\n",
    "import pandas as pd\n",
    "import matplotlib.pyplot as plt\n",
    "import seaborn as sns\n",
    "from sklearn.model_selection import train_test_split, StratifiedKFold\n",
    "from sklearn.preprocessing import StandardScaler, MinMaxScaler, PolynomialFeatures\n",
    "from tqdm import tqdm\n",
    "from sklearn.feature_selection import mutual_info_classif"
   ]
  },
  {
   "cell_type": "code",
   "execution_count": 2,
   "metadata": {},
   "outputs": [],
   "source": [
    "# Load in the phishing\n",
    "phishing_df = pd.read_csv('../data/phishing_urls.csv', header = 0).drop(columns = ['FILENAME', 'URLSimilarityIndex'])\n",
    "\n",
    "# Invert the label column (positive phishing should be 1, not 0)\n",
    "phishing_df['label'] = phishing_df['label'].map({0: 1, 1: 0})"
   ]
  },
  {
   "cell_type": "code",
   "execution_count": null,
   "metadata": {},
   "outputs": [],
   "source": [
    "categorical_numerical_features = ['IsDomainIP', 'HasObfuscation', 'IsHTTPS', 'HasTitle', 'HasFavicon', 'Robots', 'IsResponsive', 'HasDescription', 'HasExternalFormSubmit', 'HasSocialNet', 'HasSubmitButton', 'HasHiddenFields', 'HasPasswordField', 'Bank', 'Pay', 'Crypto', 'HasCopyrightInfo']\n",
    "categorical_nonnumerical_features = []\n",
    "ss_continuous_features = ['URLLength', 'DomainLength', 'TLDLength', 'NoOfSubDomain', 'NoOfObfuscatedChar', 'NoOfLettersInURL', 'NoOfDigitsInURL', 'NoOfEqualsInURL', 'NoOfQMarkInURL', 'NoOfAmpersandInURL', 'NoOfOtherSpecialCharsInURL', 'LineOfCode', 'LargestLineLength', 'NoOfURLRedirect', 'NoOfSelfRedirect', 'NoOfPopup', 'NoOfiFrame', 'NoOfImage', 'NoOfCSS', 'NoOfJS', 'NoOfSelfRef', 'NoOfEmptyRef', 'NoOfExternalRef']\n",
    "minmax_continuous_features = ['CharContinuationRate', 'TLDLegitimateProb', 'URLCharProb', 'ObfuscationRatio', 'LetterRatioInURL', 'DigitRatioInURL', 'SpecialCharRatioInURL', 'DomainTitleMatchScore', 'URLTitleMatchScore']\n",
    "ordinal_features = []\n",
    "nonnumeric_features = ['URL', 'Domain', 'TLD', 'Title']\n",
    "label = 'label'\n",
    "\n",
    "# categorical_numerical_features = ['HasSocialNet', 'HasCopyrightInfo', 'HasDescription', 'IsHTTPS', 'HasSubmitButton', 'IsResponsive']\n",
    "# categorical_nonnumerical_features = []\n",
    "# ss_continuous_features = ['LineOfCode', 'NoOfExternalRef', 'NoOfImage', 'NoOfSelfRef', 'NoOfJS', 'LargestLineLength', 'NoOfCSS', 'NoOfOtherSpecialCharsInURL']\n",
    "# minmax_continuous_features = ['LetterRatioInURL', 'DomainTitleMatchScore', 'URLTitleMatchScore', 'SpecialCharRatioInURL']\n",
    "# ordinal_features = []\n",
    "# nonnumeric_features = []\n",
    "# label = 'label'\n",
    "\n",
    "# categorical_numerical_features = ['HasSocialNet', 'HasCopyrightInfo']\n",
    "# categorical_nonnumerical_features = []\n",
    "# ss_continuous_features = ['LineOfCode', 'NoOfExternalRef', 'NoOfImage', 'NoOfSelfRef', 'NoOfJS', 'LargestLineLength', 'NoOfCSS']\n",
    "# minmax_continuous_features = ['LetterRatioInURL']\n",
    "# ordinal_features = []\n",
    "# nonnumeric_features = []\n",
    "# label = 'label'"
   ]
  },
  {
   "cell_type": "code",
   "execution_count": null,
   "metadata": {},
   "outputs": [
    {
     "name": "stderr",
     "output_type": "stream",
     "text": [
      "/Users/paul/opt/miniconda3/envs/data1030_env/lib/python3.12/site-packages/numpy/lib/function_base.py:2897: RuntimeWarning: invalid value encountered in divide\n",
      "  c /= stddev[:, None]\n",
      "/Users/paul/opt/miniconda3/envs/data1030_env/lib/python3.12/site-packages/numpy/lib/function_base.py:2898: RuntimeWarning: invalid value encountered in divide\n",
      "  c /= stddev[None, :]\n"
     ]
    },
    {
     "name": "stdout",
     "output_type": "stream",
     "text": [
      "NoOfSubDomain DomainTitleMatchScore          -0.609812\n",
      "NoOfSubDomain URLTitleMatchScore             -0.603864\n",
      "LetterRatioInURL SpecialCharRatioInURL        0.602648\n",
      "URLCharProb DomainTitleMatchScore            -0.596308\n",
      "CharContinuationRate DomainTitleMatchScore   -0.589343\n",
      "DomainTitleMatchScore                        -0.584905\n",
      "DomainTitleMatchScore URLTitleMatchScore     -0.583674\n",
      "DomainTitleMatchScore^2                      -0.583660\n",
      "URLLength DomainTitleMatchScore              -0.575883\n",
      "TLDLength DomainTitleMatchScore              -0.574455\n",
      "dtype: float64\n"
     ]
    }
   ],
   "source": [
    "# Feature Engineering\n",
    "poly = PolynomialFeatures(2)\n",
    "interaction_features = poly.fit_transform(phishing_df[ss_continuous_features + minmax_continuous_features])\n",
    "\n",
    "# Create a new dataframe with the interaction features\n",
    "interaction_df = pd.DataFrame(interaction_features, columns = poly.get_feature_names_out(phishing_df[ss_continuous_features + minmax_continuous_features].columns))\n",
    "\n",
    "pearson_correlations = interaction_df.corrwith(phishing_df[label], method='pearson')\n",
    "\n",
    "print(pearson_correlations.sort_values(ascending = False, key = abs).head(10))\n",
    "\n",
    "# mi = mutual_info_classif(interaction_df, phishing_df[label])   \n",
    "\n",
    "# print(pd.Series(mi, index = interaction_df.columns).sort_values(ascending = False).head(10))\n",
    "# print(pd.Series(mi, index = interaction_df.columns).sort_values(ascending = False, key = abs).head(10) )"
   ]
  },
  {
   "cell_type": "code",
   "execution_count": null,
   "metadata": {},
   "outputs": [
    {
     "name": "stdout",
     "output_type": "stream",
     "text": [
      "(235795, 561)\n",
      "Index(['1', 'URLLength', 'DomainLength', 'TLDLength', 'NoOfSubDomain',\n",
      "       'NoOfObfuscatedChar', 'NoOfLettersInURL', 'NoOfDigitsInURL',\n",
      "       'NoOfEqualsInURL', 'NoOfQMarkInURL',\n",
      "       ...\n",
      "       'DigitRatioInURL^2', 'DigitRatioInURL SpecialCharRatioInURL',\n",
      "       'DigitRatioInURL DomainTitleMatchScore',\n",
      "       'DigitRatioInURL URLTitleMatchScore', 'SpecialCharRatioInURL^2',\n",
      "       'SpecialCharRatioInURL DomainTitleMatchScore',\n",
      "       'SpecialCharRatioInURL URLTitleMatchScore', 'DomainTitleMatchScore^2',\n",
      "       'DomainTitleMatchScore URLTitleMatchScore', 'URLTitleMatchScore^2'],\n",
      "      dtype='object', length=561)\n"
     ]
    }
   ],
   "source": [
    "print(interaction_df.shape)"
   ]
  },
  {
   "cell_type": "code",
   "execution_count": 11,
   "metadata": {},
   "outputs": [
    {
     "name": "stdout",
     "output_type": "stream",
     "text": [
      "(201604, 53) (22401, 53) (11790, 53)\n",
      "(201604,) (22401,) (11790,)\n",
      "(201604, 53) (22401, 53) (11790, 53)\n",
      "(201604,) (22401,) (11790,)\n",
      "(201604, 53) (22401, 53) (11790, 53)\n",
      "(201604,) (22401,) (11790,)\n",
      "(201604, 53) (22401, 53) (11790, 53)\n",
      "(201604,) (22401,) (11790,)\n",
      "(201604, 53) (22401, 53) (11790, 53)\n",
      "(201604,) (22401,) (11790,)\n",
      "(201605, 53) (22400, 53) (11790, 53)\n",
      "(201605,) (22400,) (11790,)\n",
      "(201605, 53) (22400, 53) (11790, 53)\n",
      "(201605,) (22400,) (11790,)\n",
      "(201605, 53) (22400, 53) (11790, 53)\n",
      "(201605,) (22400,) (11790,)\n",
      "(201605, 53) (22400, 53) (11790, 53)\n",
      "(201605,) (22400,) (11790,)\n",
      "(201605, 53) (22400, 53) (11790, 53)\n",
      "(201605,) (22400,) (11790,)\n"
     ]
    }
   ],
   "source": [
    "train_perc, _, test_perc = 0.9, 0.05, 0.05\n",
    "\n",
    "X, y = phishing_df.drop(columns = [label]), phishing_df[label]\n",
    "\n",
    "# Perform stratified split to ensure equal representation of legitimate and phishing URLs\n",
    "X_other, X_test, y_other, y_test = train_test_split(X, y, test_size = test_perc, stratify = y, random_state = 42)\n",
    "\n",
    "skf = StratifiedKFold(n_splits = 10, shuffle = True, random_state = 42)\n",
    "\n",
    "for train_index, val_index in skf.split(X_other, y_other):\n",
    "    X_train, X_val = X_other.iloc[train_index], X_other.iloc[val_index]\n",
    "    y_train, y_val = y_other.iloc[train_index], y_other.iloc[val_index]\n",
    "\n",
    "    minmax_scaler = MinMaxScaler()\n",
    "\n",
    "    X_train_mm = pd.DataFrame(minmax_scaler.fit_transform(X_train[minmax_continuous_features]),\n",
    "                              columns = minmax_continuous_features, index = X_train.index)\n",
    "    X_val_mm = pd.DataFrame(minmax_scaler.transform(X_val[minmax_continuous_features]),\n",
    "                            columns = minmax_continuous_features, index = X_val.index)\n",
    "\n",
    "    ss_scaler = StandardScaler()\n",
    "\n",
    "    X_train_ss = pd.DataFrame(ss_scaler.fit_transform(X_train[ss_continuous_features]),\n",
    "                              columns = ss_continuous_features, index = X_train.index)\n",
    "    X_val_ss = pd.DataFrame(ss_scaler.transform(X_val[ss_continuous_features]),\n",
    "                            columns = ss_continuous_features, index = X_val.index)\n",
    "\n",
    "    X_train_untransformed = X_train.drop(columns = minmax_continuous_features + ss_continuous_features)\n",
    "    X_val_untransformed = X_val.drop(columns = minmax_continuous_features + ss_continuous_features)\n",
    "\n",
    "    X_train_final = pd.concat([X_train_untransformed, X_train_mm, X_train_ss], axis = 1)\n",
    "    X_val_final = pd.concat([X_val_untransformed, X_val_mm, X_val_ss], axis = 1)\n",
    "\n",
    "    # Print shapes to verify correctness\n",
    "    print(X_train_final.shape, X_val_final.shape, X_test.shape)\n",
    "    print(y_train.shape, y_val.shape, y_test.shape)\n",
    "\n",
    "    # TRAIN AND VALIDATE MODELS HERE"
   ]
  },
  {
   "cell_type": "code",
   "execution_count": null,
   "metadata": {},
   "outputs": [
    {
     "name": "stdout",
     "output_type": "stream",
     "text": [
      "(224005, 53) (11790, 53)\n",
      "(224005,) (11790,)\n"
     ]
    }
   ],
   "source": [
    "# Train on entire training set and evaluate on test set\n",
    "X_train, X_test, y_train, y_test = train_test_split(X, y, test_size = test_perc, stratify = y, random_state = 42)\n",
    "\n",
    "minmax_scaler = MinMaxScaler()\n",
    "\n",
    "X_train_mm = pd.DataFrame(minmax_scaler.fit_transform(X_train[minmax_continuous_features]),\n",
    "                          columns = minmax_continuous_features, index = X_train.index)\n",
    "X_test_mm = pd.DataFrame(minmax_scaler.transform(X_test[minmax_continuous_features]),\n",
    "                            columns = minmax_continuous_features, index = X_test.index)\n",
    "\n",
    "ss_scaler = StandardScaler()\n",
    "\n",
    "X_train_ss = pd.DataFrame(ss_scaler.fit_transform(X_train[ss_continuous_features]),\n",
    "                            columns = ss_continuous_features, index = X_train.index)\n",
    "X_test_ss = pd.DataFrame(ss_scaler.transform(X_test[ss_continuous_features]),\n",
    "                            columns = ss_continuous_features, index = X_test.index)\n",
    "\n",
    "X_train_untransformed = X_train.drop(columns = minmax_continuous_features + ss_continuous_features)\n",
    "X_test_untransformed = X_test.drop(columns = minmax_continuous_features + ss_continuous_features)\n",
    "\n",
    "X_train_final = pd.concat([X_train_untransformed, X_train_mm, X_train_ss], axis = 1)\n",
    "X_test_final = pd.concat([X_test_untransformed, X_test_mm, X_test_ss], axis = 1)\n",
    "\n",
    "# Print shapes to verify correctness\n",
    "print(X_train_final.shape, X_test_final.shape)\n",
    "print(y_train.shape, y_test.shape)\n",
    "\n",
    "# TRAIN AND TEST MODELS HERE"
   ]
  }
 ],
 "metadata": {
  "kernelspec": {
   "display_name": "data1030_env",
   "language": "python",
   "name": "python3"
  },
  "language_info": {
   "codemirror_mode": {
    "name": "ipython",
    "version": 3
   },
   "file_extension": ".py",
   "mimetype": "text/x-python",
   "name": "python",
   "nbconvert_exporter": "python",
   "pygments_lexer": "ipython3",
   "version": "3.12.5"
  }
 },
 "nbformat": 4,
 "nbformat_minor": 2
}
