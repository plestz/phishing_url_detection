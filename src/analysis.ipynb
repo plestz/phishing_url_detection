{
 "cells": [
  {
   "cell_type": "code",
   "execution_count": 25,
   "metadata": {},
   "outputs": [
    {
     "name": "stdout",
     "output_type": "stream",
     "text": [
      "The autoreload extension is already loaded. To reload it, use:\n",
      "  %reload_ext autoreload\n"
     ]
    }
   ],
   "source": [
    "%load_ext autoreload\n",
    "%autoreload 2"
   ]
  },
  {
   "cell_type": "code",
   "execution_count": 33,
   "metadata": {},
   "outputs": [],
   "source": [
    "import numpy as np\n",
    "import pandas as pd\n",
    "import matplotlib.pyplot as plt\n",
    "import pickle\n",
    "from data_loader import load_data_for"
   ]
  },
  {
   "cell_type": "code",
   "execution_count": 34,
   "metadata": {},
   "outputs": [],
   "source": [
    "# Import All Model Data\n",
    "lr_model_results = load_data_for('logistic_regression')\n",
    "rf_model_results = load_data_for('random_forest_classifier')\n",
    "svc_model_results = load_data_for('support_vector_classifier')\n",
    "xgbc_model_results = load_data_for('xgb_classifier')\n",
    "\n",
    "# NOTE: Each dictionary contains the following keys: \n",
    "# 'best_estimators', 'best_scores', 'baseline_scores', 'X_test_unpreprocessed', 'X_test_preprocessed', 'y_test', 'predicted_labels'"
   ]
  },
  {
   "cell_type": "code",
   "execution_count": 36,
   "metadata": {},
   "outputs": [
    {
     "name": "stdout",
     "output_type": "stream",
     "text": [
      "[0.9771561225883225, 0.9771909114855175, 0.9767190196250475, 0.976736246586032, 0.9768539742301727]\n",
      "[0.992907098844927, 0.9927753111868707, 0.993092307387366, 0.9931055660667056, 0.993778975314023]\n",
      "[0.9938837920489296, 0.9939848433882744, 0.9940203348216495, 0.9938915124694329, 0.9934053529522433]\n",
      "[0.9973943110776455, 0.9971861407524101, 0.9973542614227533, 0.9970967965676804, 0.9971366009769244]\n"
     ]
    }
   ],
   "source": [
    "print(lr_model_results['best_scores'])\n",
    "print(rf_model_results['best_scores'])\n",
    "print(svc_model_results['best_scores'])\n",
    "print(xgbc_model_results['best_scores'])"
   ]
  }
 ],
 "metadata": {
  "kernelspec": {
   "display_name": "data1030_env",
   "language": "python",
   "name": "python3"
  },
  "language_info": {
   "codemirror_mode": {
    "name": "ipython",
    "version": 3
   },
   "file_extension": ".py",
   "mimetype": "text/x-python",
   "name": "python",
   "nbconvert_exporter": "python",
   "pygments_lexer": "ipython3",
   "version": "3.12.5"
  }
 },
 "nbformat": 4,
 "nbformat_minor": 2
}
