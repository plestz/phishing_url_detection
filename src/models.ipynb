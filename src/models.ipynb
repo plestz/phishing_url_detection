{
 "cells": [
  {
   "cell_type": "code",
   "execution_count": 2,
   "metadata": {},
   "outputs": [],
   "source": [
    "%load_ext autoreload\n",
    "%autoreload 2"
   ]
  },
  {
   "cell_type": "code",
   "execution_count": 3,
   "metadata": {},
   "outputs": [],
   "source": [
    "import numpy as np\n",
    "import pandas as pd\n",
    "import matplotlib.pyplot as plt\n",
    "import seaborn as sns\n",
    "from sklearn.model_selection import train_test_split, StratifiedKFold\n",
    "from sklearn.preprocessing import StandardScaler, MinMaxScaler, PolynomialFeatures\n",
    "from tqdm import tqdm\n",
    "from sklearn.feature_selection import mutual_info_classif\n",
    "from pipeline_func import stratified_kfold_cv_pipe\n",
    "from sklearn.linear_model import LogisticRegression\n",
    "\n",
    "from sklearn.compose import ColumnTransformer\n",
    "from sklearn.pipeline import Pipeline, make_pipeline"
   ]
  },
  {
   "cell_type": "code",
   "execution_count": 4,
   "metadata": {},
   "outputs": [],
   "source": [
    "# Load in the phishing\n",
    "phishing_df = pd.read_csv('../data/phishing_urls.csv', header = 0).drop(columns = ['FILENAME', 'URLSimilarityIndex'])\n",
    "\n",
    "# Invert the label column (positive phishing should be 1, not 0)\n",
    "phishing_df['label'] = phishing_df['label'].map({0: 1, 1: 0})"
   ]
  },
  {
   "cell_type": "code",
   "execution_count": 75,
   "metadata": {},
   "outputs": [],
   "source": [
    "# categorical_numerical_features = ['IsDomainIP', 'HasObfuscation', 'IsHTTPS', 'HasTitle', 'HasFavicon', 'Robots', 'IsResponsive', 'HasDescription', 'HasExternalFormSubmit', 'HasSocialNet', 'HasSubmitButton', 'HasHiddenFields', 'HasPasswordField', 'Bank', 'Pay', 'Crypto', 'HasCopyrightInfo']\n",
    "# categorical_nonnumerical_features = []\n",
    "# ss_continuous_features = ['URLLength', 'DomainLength', 'TLDLength', 'NoOfSubDomain', 'NoOfObfuscatedChar', 'NoOfLettersInURL', 'NoOfDigitsInURL', 'NoOfEqualsInURL', 'NoOfQMarkInURL', 'NoOfAmpersandInURL', 'NoOfOtherSpecialCharsInURL', 'LineOfCode', 'LargestLineLength', 'NoOfURLRedirect', 'NoOfSelfRedirect', 'NoOfPopup', 'NoOfiFrame', 'NoOfImage', 'NoOfCSS', 'NoOfJS', 'NoOfSelfRef', 'NoOfEmptyRef', 'NoOfExternalRef']\n",
    "# minmax_continuous_features = ['CharContinuationRate', 'TLDLegitimateProb', 'URLCharProb', 'ObfuscationRatio', 'LetterRatioInURL', 'DigitRatioInURL', 'SpecialCharRatioInURL', 'DomainTitleMatchScore', 'URLTitleMatchScore']\n",
    "# ordinal_features = []\n",
    "# nonnumeric_features = ['URL', 'Domain', 'TLD', 'Title']\n",
    "# label = 'label'\n",
    "\n",
    "# categorical_numerical_features = ['HasSocialNet', 'HasCopyrightInfo', 'HasDescription', 'IsHTTPS', 'HasSubmitButton', 'IsResponsive']\n",
    "# categorical_nonnumerical_features = []\n",
    "# ss_continuous_features = ['LineOfCode', 'NoOfExternalRef', 'NoOfImage', 'NoOfSelfRef', 'NoOfJS', 'LargestLineLength', 'NoOfCSS', 'NoOfOtherSpecialCharsInURL']\n",
    "# minmax_continuous_features = ['LetterRatioInURL', 'DomainTitleMatchScore', 'URLTitleMatchScore', 'SpecialCharRatioInURL']\n",
    "# ordinal_features = []\n",
    "# nonnumeric_features = []\n",
    "# label = 'label'\n",
    "\n",
    "# categorical_numerical_features = ['HasSocialNet', 'HasCopyrightInfo']\n",
    "# categorical_nonnumerical_features = []\n",
    "# ss_continuous_features = ['LineOfCode', 'NoOfExternalRef', 'NoOfImage', 'NoOfSelfRef', 'NoOfJS', 'LargestLineLength', 'NoOfCSS']\n",
    "# minmax_continuous_features = ['LetterRatioInURL']\n",
    "# ordinal_features = []\n",
    "# nonnumeric_features = []\n",
    "# label = 'label'\n",
    "\n",
    "categorical_numerical_features = ['HasSocialNet']\n",
    "categorical_nonnumerical_features = []\n",
    "ss_continuous_features = ['LineOfCode', 'NoOfExternalRef', 'NoOfImage', 'NoOfSelfRef', 'NoOfJS', 'LargestLineLength']\n",
    "minmax_continuous_features = ['LetterRatioInURL']\n",
    "ordinal_features = []\n",
    "nonnumeric_features = []\n",
    "label = 'label'"
   ]
  },
  {
   "cell_type": "code",
   "execution_count": 76,
   "metadata": {},
   "outputs": [],
   "source": [
    "train_perc, _, test_perc = 0.9, 0.05, 0.05\n",
    "\n",
    "X, y = phishing_df.drop(columns = [label])[categorical_nonnumerical_features + ss_continuous_features + minmax_continuous_features], phishing_df[label]\n",
    "\n",
    "# Perform stratified split to ensure equal representation of legitimate and phishing URLs\n",
    "X_other, X_test, y_other, y_test = train_test_split(X, y, test_size = test_perc, stratify = y, random_state = 42)"
   ]
  },
  {
   "cell_type": "code",
   "execution_count": 77,
   "metadata": {},
   "outputs": [],
   "source": [
    "preprocessor = ColumnTransformer(\n",
    "    transformers = [\n",
    "        ('ss', StandardScaler(), ss_continuous_features),\n",
    "        ('mm', MinMaxScaler(), minmax_continuous_features)\n",
    "        # NOTE: Probably should be scaling the binary features for interpretability and scale-optimizers\n",
    "    ]\n",
    ")\n",
    "\n",
    "# UP MAX_ITER\n",
    "log_reg = LogisticRegression(solver = 'saga', max_iter = 1000, n_jobs = -1, tol = 0.005)\n",
    "\n",
    "log_reg_params = {\n",
    "    'model__C': np.logspace(-3, 3, 7),\n",
    "    'model__penalty': ['l1', 'l2'] # consider elasticnet with hyperparam l1_ratio if time permitting\n",
    "}"
   ]
  },
  {
   "cell_type": "code",
   "execution_count": 78,
   "metadata": {},
   "outputs": [
    {
     "name": "stdout",
     "output_type": "stream",
     "text": [
      "Fitting 5 folds for each of 14 candidates, totalling 70 fits\n",
      "[CV 5/5] END .model__C=0.001, model__penalty=l1;, score=0.951 total time=   3.0s\n",
      "[CV 3/5] END .model__C=0.001, model__penalty=l1;, score=0.953 total time=   3.1s\n",
      "[CV 3/5] END .model__C=0.001, model__penalty=l2;, score=0.956 total time=   3.2s\n",
      "[CV 1/5] END .model__C=0.001, model__penalty=l2;, score=0.954 total time=   3.2s\n",
      "[CV 4/5] END .model__C=0.001, model__penalty=l1;, score=0.953 total time=   3.2s\n",
      "[CV 2/5] END .model__C=0.001, model__penalty=l2;, score=0.954 total time=   3.3s\n",
      "[CV 1/5] END .model__C=0.001, model__penalty=l1;, score=0.951 total time=   3.3s\n",
      "[CV 2/5] END .model__C=0.001, model__penalty=l1;, score=0.950 total time=   3.3s\n",
      "[CV 5/5] END .model__C=0.001, model__penalty=l2;, score=0.955 total time=   3.5s\n",
      "[CV 4/5] END .model__C=0.001, model__penalty=l2;, score=0.956 total time=   3.5s\n",
      "[CV 3/5] END ..model__C=0.01, model__penalty=l2;, score=0.960 total time=   4.3s\n",
      "[CV 1/5] END ..model__C=0.01, model__penalty=l2;, score=0.957 total time=   4.4s\n",
      "[CV 2/5] END ..model__C=0.01, model__penalty=l2;, score=0.957 total time=   4.4s\n",
      "[CV 4/5] END ..model__C=0.01, model__penalty=l2;, score=0.958 total time=   4.3s\n",
      "[CV 5/5] END ..model__C=0.01, model__penalty=l2;, score=0.957 total time=   4.6s\n",
      "[CV 1/5] END ..model__C=0.01, model__penalty=l1;, score=0.958 total time=   5.8s\n",
      "[CV 4/5] END ..model__C=0.01, model__penalty=l1;, score=0.958 total time=   5.6s\n",
      "[CV 5/5] END ..model__C=0.01, model__penalty=l1;, score=0.958 total time=   5.6s\n",
      "[CV 2/5] END ..model__C=0.01, model__penalty=l1;, score=0.958 total time=   5.9s\n",
      "[CV 3/5] END ..model__C=0.01, model__penalty=l1;, score=0.961 total time=   6.1s\n",
      "[CV 2/5] END ...model__C=0.1, model__penalty=l1;, score=0.959 total time=   5.4s\n",
      "[CV 4/5] END ...model__C=0.1, model__penalty=l1;, score=0.959 total time=   5.3s\n",
      "[CV 2/5] END ...model__C=0.1, model__penalty=l2;, score=0.958 total time=   4.9s\n",
      "[CV 5/5] END ...model__C=0.1, model__penalty=l1;, score=0.959 total time=   5.6s\n",
      "[CV 4/5] END ...model__C=0.1, model__penalty=l2;, score=0.959 total time=   4.9s\n",
      "[CV 1/5] END ...model__C=0.1, model__penalty=l2;, score=0.958 total time=   5.2s\n",
      "[CV 5/5] END ...model__C=0.1, model__penalty=l2;, score=0.959 total time=   4.7s\n",
      "[CV 1/5] END ...model__C=0.1, model__penalty=l1;, score=0.959 total time=   6.6s\n",
      "[CV 3/5] END ...model__C=0.1, model__penalty=l1;, score=0.962 total time=   6.7s\n",
      "[CV 3/5] END ...model__C=0.1, model__penalty=l2;, score=0.962 total time=   5.9s\n",
      "[CV 2/5] END ...model__C=1.0, model__penalty=l1;, score=0.959 total time=   4.8s\n",
      "[CV 5/5] END ...model__C=1.0, model__penalty=l1;, score=0.959 total time=   5.0s\n",
      "[CV 4/5] END ...model__C=1.0, model__penalty=l1;, score=0.959 total time=   5.1s\n",
      "[CV 4/5] END ...model__C=1.0, model__penalty=l2;, score=0.959 total time=   4.5s\n",
      "[CV 2/5] END ...model__C=1.0, model__penalty=l2;, score=0.959 total time=   5.1s\n",
      "[CV 1/5] END ...model__C=1.0, model__penalty=l1;, score=0.959 total time=   6.4s\n",
      "[CV 3/5] END ...model__C=1.0, model__penalty=l2;, score=0.962 total time=   5.6s\n",
      "[CV 5/5] END ...model__C=1.0, model__penalty=l2;, score=0.959 total time=   5.0s\n",
      "[CV 1/5] END ...model__C=1.0, model__penalty=l2;, score=0.959 total time=   5.9s\n",
      "[CV 3/5] END ...model__C=1.0, model__penalty=l1;, score=0.963 total time=   6.2s\n",
      "[CV 4/5] END ..model__C=10.0, model__penalty=l1;, score=0.959 total time=   4.6s\n",
      "[CV 2/5] END ..model__C=10.0, model__penalty=l1;, score=0.959 total time=   5.0s\n",
      "[CV 1/5] END ..model__C=10.0, model__penalty=l1;, score=0.959 total time=   6.2s\n",
      "[CV 5/5] END ..model__C=10.0, model__penalty=l1;, score=0.959 total time=   5.1s\n",
      "[CV 4/5] END ..model__C=10.0, model__penalty=l2;, score=0.959 total time=   4.4s\n",
      "[CV 2/5] END ..model__C=10.0, model__penalty=l2;, score=0.959 total time=   4.8s\n",
      "[CV 3/5] END ..model__C=10.0, model__penalty=l1;, score=0.963 total time=   6.0s\n",
      "[CV 5/5] END ..model__C=10.0, model__penalty=l2;, score=0.959 total time=   4.9s\n",
      "[CV 1/5] END ..model__C=10.0, model__penalty=l2;, score=0.959 total time=   5.9s\n",
      "[CV 3/5] END ..model__C=10.0, model__penalty=l2;, score=0.963 total time=   5.8s\n",
      "[CV 2/5] END .model__C=100.0, model__penalty=l1;, score=0.959 total time=   4.7s\n",
      "[CV 5/5] END .model__C=100.0, model__penalty=l1;, score=0.959 total time=   4.8s\n",
      "[CV 4/5] END .model__C=100.0, model__penalty=l1;, score=0.959 total time=   4.8s\n",
      "[CV 1/5] END .model__C=100.0, model__penalty=l1;, score=0.959 total time=   5.5s\n",
      "[CV 2/5] END .model__C=100.0, model__penalty=l2;, score=0.959 total time=   4.3s\n",
      "[CV 1/5] END .model__C=100.0, model__penalty=l2;, score=0.959 total time=   5.1s\n",
      "[CV 3/5] END .model__C=100.0, model__penalty=l1;, score=0.963 total time=   5.7s\n",
      "[CV 4/5] END .model__C=100.0, model__penalty=l2;, score=0.959 total time=   4.4s\n",
      "[CV 3/5] END .model__C=100.0, model__penalty=l2;, score=0.963 total time=   5.2s\n",
      "[CV 5/5] END .model__C=100.0, model__penalty=l2;, score=0.959 total time=   4.7s\n",
      "[CV 2/5] END model__C=1000.0, model__penalty=l1;, score=0.959 total time=   4.5s\n",
      "[CV 4/5] END model__C=1000.0, model__penalty=l1;, score=0.959 total time=   4.7s\n",
      "[CV 5/5] END model__C=1000.0, model__penalty=l1;, score=0.959 total time=   5.0s\n",
      "[CV 2/5] END model__C=1000.0, model__penalty=l2;, score=0.959 total time=   4.4s\n",
      "[CV 4/5] END model__C=1000.0, model__penalty=l2;, score=0.959 total time=   4.7s\n",
      "[CV 1/5] END model__C=1000.0, model__penalty=l1;, score=0.959 total time=   6.2s\n",
      "[CV 3/5] END model__C=1000.0, model__penalty=l1;, score=0.963 total time=   5.8s\n",
      "[CV 5/5] END model__C=1000.0, model__penalty=l2;, score=0.959 total time=   4.7s\n",
      "[CV 1/5] END model__C=1000.0, model__penalty=l2;, score=0.959 total time=   5.4s\n",
      "[CV 3/5] END model__C=1000.0, model__penalty=l2;, score=0.963 total time=   5.3s\n"
     ]
    }
   ],
   "source": [
    "best_log_reg, best_log_reg_score = stratified_kfold_cv_pipe(X_other, y_other, preprocessor, log_reg, log_reg_params, n_splits = 5, random_state = 42)"
   ]
  },
  {
   "cell_type": "code",
   "execution_count": 79,
   "metadata": {},
   "outputs": [
    {
     "name": "stdout",
     "output_type": "stream",
     "text": [
      "{'C': 10.0, 'class_weight': None, 'dual': False, 'fit_intercept': True, 'intercept_scaling': 1, 'l1_ratio': None, 'max_iter': 1000, 'multi_class': 'deprecated', 'n_jobs': -1, 'penalty': 'l1', 'random_state': None, 'solver': 'saga', 'tol': 0.005, 'verbose': 0, 'warm_start': False}\n",
      "[[-4.09230306 -3.98947124 -4.4698022  -4.56123204 -4.05095058  2.80654527\n",
      "   1.15568232]]\n"
     ]
    }
   ],
   "source": [
    "# print best params\n",
    "print(best_log_reg.named_steps['model'].get_params())\n",
    "# get coefficients from best model\n",
    "print(best_log_reg.named_steps['model'].coef_)"
   ]
  }
 ],
 "metadata": {
  "kernelspec": {
   "display_name": "data1030_env",
   "language": "python",
   "name": "python3"
  },
  "language_info": {
   "codemirror_mode": {
    "name": "ipython",
    "version": 3
   },
   "file_extension": ".py",
   "mimetype": "text/x-python",
   "name": "python",
   "nbconvert_exporter": "python",
   "pygments_lexer": "ipython3",
   "version": "3.12.5"
  }
 },
 "nbformat": 4,
 "nbformat_minor": 2
}
